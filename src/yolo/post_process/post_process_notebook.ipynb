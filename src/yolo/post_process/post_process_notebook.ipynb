{
 "cells": [
  {
   "cell_type": "code",
   "execution_count": null,
   "id": "1f587445",
   "metadata": {},
   "outputs": [],
   "source": [
    "\"\"\"\n",
    "Model prediction output folder structure\n",
    "\n",
    "prediction_output_folder\n",
    "    - batch_1\n",
    "        - results\n",
    "            - geojsons_geo_0p6\n",
    "            - geojsons_pix_0p6\n",
    "            - pred_plots_0p6\n",
    "\n",
    "    - batch_2\n",
    "\"\"\""
   ]
  },
  {
   "cell_type": "code",
   "execution_count": null,
   "id": "551e0e17",
   "metadata": {},
   "outputs": [],
   "source": [
    "from post_process_utils import collect_plots, collect_geojsons, collect_geojsons_pix, merge_geojsons"
   ]
  },
  {
   "cell_type": "markdown",
   "id": "fe14c0d9",
   "metadata": {},
   "source": [
    "### Collect plot image files in a single folder"
   ]
  },
  {
   "cell_type": "code",
   "execution_count": null,
   "id": "b3bba299",
   "metadata": {},
   "outputs": [],
   "source": [
    "# params\n",
    "data_src = 'prediction_output_folder'\n",
    "output_folder = 'collection/plots'"
   ]
  },
  {
   "cell_type": "code",
   "execution_count": null,
   "id": "d5335385",
   "metadata": {},
   "outputs": [],
   "source": [
    "collect_plots(data_src, \n",
    "              output_folder, \n",
    "              conf = 0.6)"
   ]
  },
  {
   "cell_type": "markdown",
   "id": "0e6a7aac",
   "metadata": {},
   "source": [
    "### Collect geojson files (bboxes) in a single folder"
   ]
  },
  {
   "cell_type": "code",
   "execution_count": null,
   "id": "0c1d48bb",
   "metadata": {},
   "outputs": [],
   "source": [
    "# params\n",
    "data_src = 'prediction_output_folder'\n",
    "output_folder = 'collection/geojsons_bboxes'"
   ]
  },
  {
   "cell_type": "code",
   "execution_count": null,
   "id": "ade5db4b",
   "metadata": {},
   "outputs": [],
   "source": [
    "collect_geojsons(data_src,\n",
    "                 output_folder, \n",
    "                 obj_type = 'box', \n",
    "                 conf = 0.6)"
   ]
  },
  {
   "cell_type": "markdown",
   "id": "020d3b8b",
   "metadata": {},
   "source": [
    "### Collect geojson files (centroids) in a single folder"
   ]
  },
  {
   "cell_type": "code",
   "execution_count": null,
   "id": "10658194",
   "metadata": {},
   "outputs": [],
   "source": [
    "# params\n",
    "data_src = 'prediction_output_folder'\n",
    "output_folder = 'collection/geojsons_centroid'"
   ]
  },
  {
   "cell_type": "code",
   "execution_count": null,
   "id": "eadd317b",
   "metadata": {},
   "outputs": [],
   "source": [
    "collect_geojsons(data_src,\n",
    "                 output_folder, \n",
    "                 obj_type = 'centroid', \n",
    "                 conf = 0.6)"
   ]
  },
  {
   "cell_type": "markdown",
   "id": "0b66af6c",
   "metadata": {},
   "source": [
    "### Collect geojson files (pixel coordinates) files in a single folder"
   ]
  },
  {
   "cell_type": "code",
   "execution_count": null,
   "id": "ba62d8da",
   "metadata": {},
   "outputs": [],
   "source": [
    "# params\n",
    "data_src = 'prediction_output_folder'\n",
    "output_folder = 'collection/geojsons_pixel_coords'"
   ]
  },
  {
   "cell_type": "code",
   "execution_count": null,
   "id": "f64058ee",
   "metadata": {},
   "outputs": [],
   "source": [
    "collect_geojsons_pix(data_src, \n",
    "                     output_folder, \n",
    "                     conf = 0.6)"
   ]
  },
  {
   "cell_type": "markdown",
   "id": "42adbe42",
   "metadata": {},
   "source": [
    "### Merge multiple geojson files"
   ]
  },
  {
   "cell_type": "code",
   "execution_count": null,
   "id": "6003405d",
   "metadata": {},
   "outputs": [],
   "source": [
    "# params\n",
    "geojson_folder = 'collection/geojsons_bboxes'\n",
    "save_dir = 'collection/predictions.geojson'"
   ]
  },
  {
   "cell_type": "code",
   "execution_count": null,
   "id": "fe4a25f3",
   "metadata": {},
   "outputs": [],
   "source": [
    "merge_geojsons(geojson_folder, \n",
    "               save_dir)"
   ]
  }
 ],
 "metadata": {
  "kernelspec": {
   "display_name": "Python 3 (ipykernel)",
   "language": "python",
   "name": "python3"
  },
  "language_info": {
   "codemirror_mode": {
    "name": "ipython",
    "version": 3
   },
   "file_extension": ".py",
   "mimetype": "text/x-python",
   "name": "python",
   "nbconvert_exporter": "python",
   "pygments_lexer": "ipython3",
   "version": "3.9.10"
  }
 },
 "nbformat": 4,
 "nbformat_minor": 5
}
